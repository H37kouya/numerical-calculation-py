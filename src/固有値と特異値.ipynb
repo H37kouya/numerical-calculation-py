{
  "nbformat": 4,
  "nbformat_minor": 0,
  "metadata": {
    "colab": {
      "name": "固有値と特異値.ipynb",
      "provenance": [],
      "authorship_tag": "ABX9TyNMHCJvVU9NHeDima22qKvu",
      "include_colab_link": true
    },
    "kernelspec": {
      "name": "python3",
      "display_name": "Python 3"
    },
    "language_info": {
      "name": "python"
    }
  },
  "cells": [
    {
      "cell_type": "markdown",
      "metadata": {
        "id": "view-in-github",
        "colab_type": "text"
      },
      "source": [
        "<a href=\"https://colab.research.google.com/github/H37kouya/numerical-calculation-py/blob/main/src/%E5%9B%BA%E6%9C%89%E5%80%A4%E3%81%A8%E7%89%B9%E7%95%B0%E5%80%A4.ipynb\" target=\"_parent\"><img src=\"https://colab.research.google.com/assets/colab-badge.svg\" alt=\"Open In Colab\"/></a>"
      ]
    },
    {
      "cell_type": "code",
      "metadata": {
        "id": "4jaDAH7vjINJ"
      },
      "source": [
        "import numpy as np"
      ],
      "execution_count": 1,
      "outputs": []
    },
    {
      "cell_type": "code",
      "metadata": {
        "colab": {
          "base_uri": "https://localhost:8080/"
        },
        "id": "cv6jiwl2jMGf",
        "outputId": "c998250e-1e2b-4bcc-e0e4-8389d8290ea5"
      },
      "source": [
        "matrix = np.array([\n",
        "                   [5, 3],\n",
        "                   [4, 9],\n",
        "], dtype=np.complex128)\n",
        "matrix"
      ],
      "execution_count": 2,
      "outputs": [
        {
          "output_type": "execute_result",
          "data": {
            "text/plain": [
              "array([[5.+0.j, 3.+0.j],\n",
              "       [4.+0.j, 9.+0.j]])"
            ]
          },
          "metadata": {},
          "execution_count": 2
        }
      ]
    },
    {
      "cell_type": "code",
      "metadata": {
        "colab": {
          "base_uri": "https://localhost:8080/"
        },
        "id": "-HcVad0wjRTo",
        "outputId": "ff9ecd57-c777-4c6e-9d78-ad5948fb799c"
      },
      "source": [
        "# 固有値分解\n",
        "w, vh = np.linalg.eigh(np.dot(matrix.T, matrix))\n",
        "print('w')\n",
        "print(w)\n",
        "print('vh')\n",
        "print(vh)"
      ],
      "execution_count": 3,
      "outputs": [
        {
          "output_type": "stream",
          "name": "stdout",
          "text": [
            "w\n",
            "[  8.92041004 122.07958996]\n",
            "vh\n",
            "[[-0.84646865+0.j  0.53243857+0.j]\n",
            " [ 0.53243857+0.j  0.84646865+0.j]]\n"
          ]
        }
      ]
    },
    {
      "cell_type": "code",
      "metadata": {
        "colab": {
          "base_uri": "https://localhost:8080/"
        },
        "id": "Uf0M7FqejpMU",
        "outputId": "377e121d-b27c-44c9-e2da-e68a383a95dd"
      },
      "source": [
        "# 固有値分解を変形して、特異値分解にする\n",
        "# https://oppython.hatenablog.com/entry/2014/01/21/003245\n",
        "w, vh = np.linalg.eigh(np.dot(matrix.T, matrix))\n",
        "w = w[::-1]\n",
        "vh = vh[:,::-1]\n",
        "s = np.sqrt(w)\n",
        "u = np.dot(matrix, vh) \n",
        "u = np.dot(u, np.diag(s**(-1)))\n",
        "v = vh.T\n",
        "print('u')\n",
        "print(u)\n",
        "print('s')\n",
        "print(s)\n",
        "print('v')\n",
        "print(v)"
      ],
      "execution_count": 7,
      "outputs": [
        {
          "output_type": "stream",
          "name": "stdout",
          "text": [
            "u\n",
            "[[ 0.47077709+0.j -0.88225219+0.j]\n",
            " [ 0.88225219+0.j  0.47077709+0.j]]\n",
            "s\n",
            "[11.0489633   2.98670555]\n",
            "v\n",
            "[[ 0.53243857+0.j  0.84646865+0.j]\n",
            " [-0.84646865+0.j  0.53243857+0.j]]\n"
          ]
        }
      ]
    },
    {
      "cell_type": "code",
      "metadata": {
        "colab": {
          "base_uri": "https://localhost:8080/"
        },
        "id": "mQSA5cXqkjYt",
        "outputId": "cc1c9a45-5284-4d28-bfae-c25bad3bcd4f"
      },
      "source": [
        "# 特異値分解\n",
        "u, s, v = np.linalg.svd(matrix)\n",
        "print('u')\n",
        "print(u)\n",
        "print('s')\n",
        "print(s)\n",
        "print('v')\n",
        "print(v)"
      ],
      "execution_count": 8,
      "outputs": [
        {
          "output_type": "stream",
          "name": "stdout",
          "text": [
            "u\n",
            "[[-0.47077709+0.j -0.88225219+0.j]\n",
            " [-0.88225219+0.j  0.47077709+0.j]]\n",
            "s\n",
            "[11.0489633   2.98670555]\n",
            "v\n",
            "[[-0.53243857+0.j -0.84646865+0.j]\n",
            " [-0.84646865+0.j  0.53243857+0.j]]\n"
          ]
        }
      ]
    }
  ]
}