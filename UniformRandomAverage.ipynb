{
  "nbformat": 4,
  "nbformat_minor": 0,
  "metadata": {
    "colab": {
      "name": "UniformRandomAverage.ipynb",
      "provenance": [],
      "collapsed_sections": [],
      "authorship_tag": "ABX9TyP/BYxheqjy5j1QlI6GT/rj",
      "include_colab_link": true
    },
    "kernelspec": {
      "name": "python3",
      "display_name": "Python 3"
    },
    "language_info": {
      "name": "python"
    }
  },
  "cells": [
    {
      "cell_type": "markdown",
      "metadata": {
        "id": "view-in-github",
        "colab_type": "text"
      },
      "source": [
        "<a href=\"https://colab.research.google.com/github/H37kouya/uniform-random-average-py/blob/main/UniformRandomAverage.ipynb\" target=\"_parent\"><img src=\"https://colab.research.google.com/assets/colab-badge.svg\" alt=\"Open In Colab\"/></a>"
      ]
    },
    {
      "cell_type": "code",
      "metadata": {
        "id": "M4UBIEquJXPk"
      },
      "source": [
        "import numpy as np"
      ],
      "execution_count": null,
      "outputs": []
    },
    {
      "cell_type": "code",
      "metadata": {
        "id": "8-lIeN6oK2VL"
      },
      "source": [
        "# 定数\n",
        "MIN_BIT = 2 # 最小ビット\n",
        "MAX_BIT = 20 # 最大ビット"
      ],
      "execution_count": null,
      "outputs": []
    },
    {
      "cell_type": "code",
      "metadata": {
        "colab": {
          "base_uri": "https://localhost:8080/"
        },
        "id": "5CnrJ6u1Mp6D",
        "outputId": "159eb397-a842-4431-a13d-ce61cc81bdad"
      },
      "source": [
        "for bit in range(MIN_BIT, MAX_BIT):\n",
        "  # 一様乱数\n",
        "  arr = np.random.random(2 ** bit)\n",
        "  arr_abs = np.abs(arr)\n",
        "  avg1 = np.average(arr_abs)\n",
        "\n",
        "  arr = np.random.random(2 ** bit)\n",
        "  arr_abs = np.abs(arr)\n",
        "  avg2 = np.average(arr_abs)\n",
        "\n",
        "  arr = np.random.random(2 ** bit)\n",
        "  arr_abs = np.abs(arr)\n",
        "  avg3 = np.average(arr_abs)\n",
        "\n",
        "  print(bit, avg1, avg2, avg3)"
      ],
      "execution_count": null,
      "outputs": [
        {
          "output_type": "stream",
          "name": "stdout",
          "text": [
            "2 0.4600601708903409 0.5730530502045262 0.6510765873549536\n",
            "3 0.45206579505120453 0.5466279456681293 0.5459902564269175\n",
            "4 0.3575943335721265 0.5018018173049714 0.43026056002989366\n",
            "5 0.5016596713319975 0.5151928850992055 0.5358750945498327\n",
            "6 0.4693767150549911 0.46680463357264623 0.5369161326183924\n",
            "7 0.4985077976036482 0.47566569733084024 0.5317761128944384\n",
            "8 0.5030780908323726 0.5020890059381808 0.5300490927954317\n",
            "9 0.5072721973082671 0.5119187529078465 0.4967819866241361\n",
            "10 0.5011466668058018 0.501418481687409 0.5018282345879892\n",
            "11 0.4905770595548916 0.49391525549858195 0.4947551922935768\n",
            "12 0.5007442635192476 0.5058008865054775 0.4930781949109116\n",
            "13 0.4965540546246944 0.4982086830304523 0.49622015274109665\n",
            "14 0.504109752538486 0.501593884406951 0.5019131266814091\n",
            "15 0.500807775698306 0.5001497733605444 0.4968198592492333\n",
            "16 0.5000997781458439 0.5010127981124759 0.4982557033719469\n",
            "17 0.500414532618667 0.4995726854289769 0.4998061005652158\n",
            "18 0.5001635479011377 0.4993765163241247 0.5002099019800579\n",
            "19 0.49974335826137745 0.4999634944432981 0.500149465551266\n"
          ]
        }
      ]
    },
    {
      "cell_type": "code",
      "metadata": {
        "colab": {
          "base_uri": "https://localhost:8080/"
        },
        "id": "XKpDyp9bLKF_",
        "outputId": "19e8c3aa-e435-4848-9c88-8852ac12a471"
      },
      "source": [
        "for bit in range(MIN_BIT, MAX_BIT):\n",
        "  # 一様乱数\n",
        "  arr = np.random.random(2 ** bit) + 1j * np.random.random(2 ** bit)\n",
        "  arr_abs = np.abs(arr)\n",
        "  avg1 = np.average(arr_abs)\n",
        "\n",
        "  arr = np.random.random(2 ** bit) + 1j * np.random.random(2 ** bit)\n",
        "  arr_abs = np.abs(arr)\n",
        "  avg2 = np.average(arr_abs)\n",
        "\n",
        "  arr = np.random.random(2 ** bit) + 1j * np.random.random(2 ** bit)\n",
        "  arr_abs = np.abs(arr)\n",
        "  avg3 = np.average(arr_abs)\n",
        "\n",
        "  print(bit, avg1, avg2, avg3)"
      ],
      "execution_count": null,
      "outputs": [
        {
          "output_type": "stream",
          "name": "stdout",
          "text": [
            "2 0.6464515253347928 0.6543688092926135 0.8725077887731103\n",
            "3 0.7953056173258986 0.955223729834221 0.77269870472137\n",
            "4 0.7014153945441529 0.7490728088521247 0.9501444247844657\n",
            "5 0.803499288701774 0.743620926356432 0.7737306852217136\n",
            "6 0.732411669333775 0.7714350498051152 0.809657992756692\n",
            "7 0.7474240865661347 0.7568199622877342 0.7638287019710008\n",
            "8 0.7697518166059232 0.773969341159689 0.7650684085030746\n",
            "9 0.7782279091575581 0.7555075627447609 0.7739995930945512\n",
            "10 0.7554443460191147 0.7714806036923656 0.763486709100287\n",
            "11 0.7691228008419041 0.7580996281539711 0.76257502822132\n",
            "12 0.7626439202611108 0.7681116921979286 0.7726480945595003\n",
            "13 0.7605720802389073 0.7701240670375803 0.7646595658663444\n",
            "14 0.7634641184831665 0.7671395199824634 0.7680218809367596\n",
            "15 0.7643274697075078 0.762825872037286 0.7668199161784804\n",
            "16 0.7648723081833935 0.7650953270325236 0.7655246269688482\n",
            "17 0.7648048638969857 0.7650924757047871 0.7671929299171766\n",
            "18 0.7656231452154284 0.7652529999157962 0.7653550095401332\n",
            "19 0.7654280987971716 0.7645111432721065 0.7655039832499666\n"
          ]
        }
      ]
    }
  ]
}